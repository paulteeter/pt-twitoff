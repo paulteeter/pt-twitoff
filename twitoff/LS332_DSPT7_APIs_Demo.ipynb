{
 "cells": [
  {
   "cell_type": "markdown",
   "metadata": {
    "colab": {
     "base_uri": "https://localhost:8080/",
     "height": 155
    },
    "colab_type": "code",
    "id": "SGPLRW-t1ECX",
    "outputId": "f774218a-8e3e-46b3-80ec-8eb1667ddd33"
   },
   "source": [
    "### DSPT6 - Unit 3 Module 2 - Consuming Data from an API\n",
    "\n",
    "The purpose of this notebook is to demonstrate:\n",
    "- Connect to the Twitter API (and twitter_scraper) to query for tweets and user information by various parameters\n",
    "- Convert tweet text using SpaCy into numerical embeddings that can be use in a predictive model"
   ]
  },
  {
   "cell_type": "code",
   "execution_count": 1,
   "metadata": {
    "colab": {},
    "colab_type": "code",
    "id": "vS_A9hjG1HGD",
    "tags": []
   },
   "outputs": [],
   "source": [
    "import tweepy"
   ]
  },
  {
   "cell_type": "code",
   "execution_count": 2,
   "metadata": {
    "colab": {},
    "colab_type": "code",
    "id": "ntkRF7mp8zqp"
   },
   "outputs": [],
   "source": [
    "## ADD YOUR CREDENTIALS HERE\n",
    "TWITTER_CONSUMER_API_KEY = \"VQGGERhCt4Uk4ivWkRFxm8uPU\"\n",
    "TWITTER_CONSUMER_API_SECRET = \"xsfHxyaTjdH3qvuPA30gLrIdBxMKEZSIdoEVRF69ZcQPzYgoTS\"\n",
    "TWITTER_ACCESS_TOKEN = \"90319671-drAHBu03SgfgCJKDWogOBiL154yIsFXbxYfaJaly7\"\n",
    "TWITTER_ACCESS_TOKEN_SECRET = \"9WmoSk3LjU8sMje6IqyU1IutZHrNyutdZ3adniQroz1tR\""
   ]
  },
  {
   "cell_type": "code",
   "execution_count": 3,
   "metadata": {
    "colab": {},
    "colab_type": "code",
    "id": "6F65yM5G1gP1"
   },
   "outputs": [],
   "source": [
    "TWITTER_AUTH = tweepy.OAuthHandler(TWITTER_CONSUMER_API_KEY, TWITTER_CONSUMER_API_SECRET)\n",
    "TWITTER_AUTH.set_access_token(TWITTER_ACCESS_TOKEN, TWITTER_ACCESS_TOKEN_SECRET)\n",
    "TWITTER = tweepy.API(TWITTER_AUTH)"
   ]
  },
  {
   "cell_type": "code",
   "execution_count": 4,
   "metadata": {},
   "outputs": [
    {
     "output_type": "execute_result",
     "data": {
      "text/plain": "[&#39;__class__&#39;,\n &#39;__delattr__&#39;,\n &#39;__dict__&#39;,\n &#39;__dir__&#39;,\n &#39;__doc__&#39;,\n &#39;__eq__&#39;,\n &#39;__format__&#39;,\n &#39;__ge__&#39;,\n &#39;__getattribute__&#39;,\n &#39;__gt__&#39;,\n &#39;__hash__&#39;,\n &#39;__init__&#39;,\n &#39;__init_subclass__&#39;,\n &#39;__le__&#39;,\n &#39;__lt__&#39;,\n &#39;__module__&#39;,\n &#39;__ne__&#39;,\n &#39;__new__&#39;,\n &#39;__reduce__&#39;,\n &#39;__reduce_ex__&#39;,\n &#39;__repr__&#39;,\n &#39;__setattr__&#39;,\n &#39;__sizeof__&#39;,\n &#39;__str__&#39;,\n &#39;__subclasshook__&#39;,\n &#39;__weakref__&#39;,\n &#39;_add_list_members&#39;,\n &#39;_lookup_friendships&#39;,\n &#39;_pack_image&#39;,\n &#39;_remove_list_members&#39;,\n &#39;_send_direct_message&#39;,\n &#39;add_list_member&#39;,\n &#39;add_list_members&#39;,\n &#39;api_root&#39;,\n &#39;auth&#39;,\n &#39;blocks&#39;,\n &#39;blocks_ids&#39;,\n &#39;cache&#39;,\n &#39;compression&#39;,\n &#39;configuration&#39;,\n &#39;create_block&#39;,\n &#39;create_favorite&#39;,\n &#39;create_friendship&#39;,\n &#39;create_list&#39;,\n &#39;create_media_metadata&#39;,\n &#39;create_mute&#39;,\n &#39;create_saved_search&#39;,\n &#39;destroy_block&#39;,\n &#39;destroy_direct_message&#39;,\n &#39;destroy_favorite&#39;,\n &#39;destroy_friendship&#39;,\n &#39;destroy_list&#39;,\n &#39;destroy_mute&#39;,\n &#39;destroy_saved_search&#39;,\n &#39;destroy_status&#39;,\n &#39;favorites&#39;,\n &#39;followers&#39;,\n &#39;followers_ids&#39;,\n &#39;friends&#39;,\n &#39;friends_ids&#39;,\n &#39;friendships_incoming&#39;,\n &#39;friendships_outgoing&#39;,\n &#39;geo_id&#39;,\n &#39;geo_search&#39;,\n &#39;geo_similar_places&#39;,\n &#39;get_direct_message&#39;,\n &#39;get_list&#39;,\n &#39;get_oembed&#39;,\n &#39;get_saved_search&#39;,\n &#39;get_settings&#39;,\n &#39;get_status&#39;,\n &#39;get_user&#39;,\n &#39;home_timeline&#39;,\n &#39;host&#39;,\n &#39;list_direct_messages&#39;,\n &#39;list_members&#39;,\n &#39;list_subscribers&#39;,\n &#39;list_timeline&#39;,\n &#39;lists_all&#39;,\n &#39;lists_memberships&#39;,\n &#39;lists_subscriptions&#39;,\n &#39;lookup_friendships&#39;,\n &#39;lookup_users&#39;,\n &#39;me&#39;,\n &#39;media_upload&#39;,\n &#39;mentions_timeline&#39;,\n &#39;mutes&#39;,\n &#39;mutes_ids&#39;,\n &#39;parser&#39;,\n &#39;proxy&#39;,\n &#39;rate_limit_status&#39;,\n &#39;related_results&#39;,\n &#39;remove_list_member&#39;,\n &#39;remove_list_members&#39;,\n &#39;report_spam&#39;,\n &#39;retry_count&#39;,\n &#39;retry_delay&#39;,\n &#39;retry_errors&#39;,\n &#39;retweet&#39;,\n &#39;retweeters&#39;,\n &#39;retweets&#39;,\n &#39;retweets_of_me&#39;,\n &#39;reverse_geocode&#39;,\n &#39;saved_searches&#39;,\n &#39;search&#39;,\n &#39;search_host&#39;,\n &#39;search_root&#39;,\n &#39;search_users&#39;,\n &#39;send_direct_message&#39;,\n &#39;set_settings&#39;,\n &#39;show_friendship&#39;,\n &#39;show_list_member&#39;,\n &#39;show_list_subscriber&#39;,\n &#39;statuses_lookup&#39;,\n &#39;subscribe_list&#39;,\n &#39;supported_languages&#39;,\n &#39;timeout&#39;,\n &#39;trends_available&#39;,\n &#39;trends_closest&#39;,\n &#39;trends_place&#39;,\n &#39;unretweet&#39;,\n &#39;unsubscribe_list&#39;,\n &#39;update_list&#39;,\n &#39;update_profile&#39;,\n &#39;update_profile_background_image&#39;,\n &#39;update_profile_banner&#39;,\n &#39;update_profile_image&#39;,\n &#39;update_status&#39;,\n &#39;update_with_media&#39;,\n &#39;upload_host&#39;,\n &#39;upload_root&#39;,\n &#39;user_timeline&#39;,\n &#39;verify_credentials&#39;,\n &#39;wait_on_rate_limit&#39;,\n &#39;wait_on_rate_limit_notify&#39;]"
     },
     "metadata": {},
     "execution_count": 4
    }
   ],
   "source": [
    "dir(TWITTER)"
   ]
  },
  {
   "cell_type": "code",
   "execution_count": 5,
   "metadata": {},
   "outputs": [
    {
     "output_type": "execute_result",
     "data": {
      "text/plain": "User(_api=&lt;tweepy.api.API object at 0x10e27ddc0&gt;, _json={&#39;id&#39;: 44196397, &#39;id_str&#39;: &#39;44196397&#39;, &#39;name&#39;: &#39;Elon Musk&#39;, &#39;screen_name&#39;: &#39;elonmusk&#39;, &#39;location&#39;: &#39;&#39;, &#39;profile_location&#39;: None, &#39;description&#39;: &#39;&#39;, &#39;url&#39;: None, &#39;entities&#39;: {&#39;description&#39;: {&#39;urls&#39;: []}}, &#39;protected&#39;: False, &#39;followers_count&#39;: 39058867, &#39;friends_count&#39;: 97, &#39;listed_count&#39;: 56237, &#39;created_at&#39;: &#39;Tue Jun 02 20:12:29 +0000 2009&#39;, &#39;favourites_count&#39;: 6758, &#39;utc_offset&#39;: None, &#39;time_zone&#39;: None, &#39;geo_enabled&#39;: False, &#39;verified&#39;: True, &#39;statuses_count&#39;: 12449, &#39;lang&#39;: None, &#39;status&#39;: {&#39;created_at&#39;: &#39;Fri Oct 02 04:11:52 +0000 2020&#39;, &#39;id&#39;: 1311881562728747010, &#39;id_str&#39;: &#39;1311881562728747010&#39;, &#39;text&#39;: &#39;@WholeMarsBlog @MKBHD Yeah&#39;, &#39;truncated&#39;: False, &#39;entities&#39;: {&#39;hashtags&#39;: [], &#39;symbols&#39;: [], &#39;user_mentions&#39;: [{&#39;screen_name&#39;: &#39;WholeMarsBlog&#39;, &#39;name&#39;: &#39;Whole Mars Catalog&#39;, &#39;id&#39;: 1263491240336769026, &#39;id_str&#39;: &#39;1263491240336769026&#39;, &#39;indices&#39;: [0, 14]}, {&#39;screen_name&#39;: &#39;MKBHD&#39;, &#39;name&#39;: &#39;Marques Brownlee&#39;, &#39;id&#39;: 29873662, &#39;id_str&#39;: &#39;29873662&#39;, &#39;indices&#39;: [15, 21]}], &#39;urls&#39;: []}, &#39;source&#39;: &#39;&lt;a href=&quot;http://twitter.com/download/iphone&quot; rel=&quot;nofollow&quot;&gt;Twitter for iPhone&lt;/a&gt;&#39;, &#39;in_reply_to_status_id&#39;: 1311869130471927810, &#39;in_reply_to_status_id_str&#39;: &#39;1311869130471927810&#39;, &#39;in_reply_to_user_id&#39;: 1263491240336769026, &#39;in_reply_to_user_id_str&#39;: &#39;1263491240336769026&#39;, &#39;in_reply_to_screen_name&#39;: &#39;WholeMarsBlog&#39;, &#39;geo&#39;: None, &#39;coordinates&#39;: None, &#39;place&#39;: None, &#39;contributors&#39;: None, &#39;is_quote_status&#39;: False, &#39;retweet_count&#39;: 27, &#39;favorite_count&#39;: 690, &#39;favorited&#39;: False, &#39;retweeted&#39;: False, &#39;lang&#39;: &#39;en&#39;}, &#39;contributors_enabled&#39;: False, &#39;is_translator&#39;: False, &#39;is_translation_enabled&#39;: False, &#39;profile_background_color&#39;: &#39;C0DEED&#39;, &#39;profile_background_image_url&#39;: &#39;http://abs.twimg.com/images/themes/theme1/bg.png&#39;, &#39;profile_background_image_url_https&#39;: &#39;https://abs.twimg.com/images/themes/theme1/bg.png&#39;, &#39;profile_background_tile&#39;: False, &#39;profile_image_url&#39;: &#39;http://pbs.twimg.com/profile_images/1295975423654977537/dHw9JcrK_normal.jpg&#39;, &#39;profile_image_url_https&#39;: &#39;https://pbs.twimg.com/profile_images/1295975423654977537/dHw9JcrK_normal.jpg&#39;, &#39;profile_banner_url&#39;: &#39;https://pbs.twimg.com/profile_banners/44196397/1576183471&#39;, &#39;profile_link_color&#39;: &#39;0084B4&#39;, &#39;profile_sidebar_border_color&#39;: &#39;C0DEED&#39;, &#39;profile_sidebar_fill_color&#39;: &#39;DDEEF6&#39;, &#39;profile_text_color&#39;: &#39;333333&#39;, &#39;profile_use_background_image&#39;: True, &#39;has_extended_profile&#39;: True, &#39;default_profile&#39;: False, &#39;default_profile_image&#39;: False, &#39;following&#39;: False, &#39;follow_request_sent&#39;: False, &#39;notifications&#39;: False, &#39;translator_type&#39;: &#39;none&#39;}, id=44196397, id_str=&#39;44196397&#39;, name=&#39;Elon Musk&#39;, screen_name=&#39;elonmusk&#39;, location=&#39;&#39;, profile_location=None, description=&#39;&#39;, url=None, entities={&#39;description&#39;: {&#39;urls&#39;: []}}, protected=False, followers_count=39058867, friends_count=97, listed_count=56237, created_at=datetime.datetime(2009, 6, 2, 20, 12, 29), favourites_count=6758, utc_offset=None, time_zone=None, geo_enabled=False, verified=True, statuses_count=12449, lang=None, status=Status(_api=&lt;tweepy.api.API object at 0x10e27ddc0&gt;, _json={&#39;created_at&#39;: &#39;Fri Oct 02 04:11:52 +0000 2020&#39;, &#39;id&#39;: 1311881562728747010, &#39;id_str&#39;: &#39;1311881562728747010&#39;, &#39;text&#39;: &#39;@WholeMarsBlog @MKBHD Yeah&#39;, &#39;truncated&#39;: False, &#39;entities&#39;: {&#39;hashtags&#39;: [], &#39;symbols&#39;: [], &#39;user_mentions&#39;: [{&#39;screen_name&#39;: &#39;WholeMarsBlog&#39;, &#39;name&#39;: &#39;Whole Mars Catalog&#39;, &#39;id&#39;: 1263491240336769026, &#39;id_str&#39;: &#39;1263491240336769026&#39;, &#39;indices&#39;: [0, 14]}, {&#39;screen_name&#39;: &#39;MKBHD&#39;, &#39;name&#39;: &#39;Marques Brownlee&#39;, &#39;id&#39;: 29873662, &#39;id_str&#39;: &#39;29873662&#39;, &#39;indices&#39;: [15, 21]}], &#39;urls&#39;: []}, &#39;source&#39;: &#39;&lt;a href=&quot;http://twitter.com/download/iphone&quot; rel=&quot;nofollow&quot;&gt;Twitter for iPhone&lt;/a&gt;&#39;, &#39;in_reply_to_status_id&#39;: 1311869130471927810, &#39;in_reply_to_status_id_str&#39;: &#39;1311869130471927810&#39;, &#39;in_reply_to_user_id&#39;: 1263491240336769026, &#39;in_reply_to_user_id_str&#39;: &#39;1263491240336769026&#39;, &#39;in_reply_to_screen_name&#39;: &#39;WholeMarsBlog&#39;, &#39;geo&#39;: None, &#39;coordinates&#39;: None, &#39;place&#39;: None, &#39;contributors&#39;: None, &#39;is_quote_status&#39;: False, &#39;retweet_count&#39;: 27, &#39;favorite_count&#39;: 690, &#39;favorited&#39;: False, &#39;retweeted&#39;: False, &#39;lang&#39;: &#39;en&#39;}, created_at=datetime.datetime(2020, 10, 2, 4, 11, 52), id=1311881562728747010, id_str=&#39;1311881562728747010&#39;, text=&#39;@WholeMarsBlog @MKBHD Yeah&#39;, truncated=False, entities={&#39;hashtags&#39;: [], &#39;symbols&#39;: [], &#39;user_mentions&#39;: [{&#39;screen_name&#39;: &#39;WholeMarsBlog&#39;, &#39;name&#39;: &#39;Whole Mars Catalog&#39;, &#39;id&#39;: 1263491240336769026, &#39;id_str&#39;: &#39;1263491240336769026&#39;, &#39;indices&#39;: [0, 14]}, {&#39;screen_name&#39;: &#39;MKBHD&#39;, &#39;name&#39;: &#39;Marques Brownlee&#39;, &#39;id&#39;: 29873662, &#39;id_str&#39;: &#39;29873662&#39;, &#39;indices&#39;: [15, 21]}], &#39;urls&#39;: []}, source=&#39;Twitter for iPhone&#39;, source_url=&#39;http://twitter.com/download/iphone&#39;, in_reply_to_status_id=1311869130471927810, in_reply_to_status_id_str=&#39;1311869130471927810&#39;, in_reply_to_user_id=1263491240336769026, in_reply_to_user_id_str=&#39;1263491240336769026&#39;, in_reply_to_screen_name=&#39;WholeMarsBlog&#39;, geo=None, coordinates=None, place=None, contributors=None, is_quote_status=False, retweet_count=27, favorite_count=690, favorited=False, retweeted=False, lang=&#39;en&#39;), contributors_enabled=False, is_translator=False, is_translation_enabled=False, profile_background_color=&#39;C0DEED&#39;, profile_background_image_url=&#39;http://abs.twimg.com/images/themes/theme1/bg.png&#39;, profile_background_image_url_https=&#39;https://abs.twimg.com/images/themes/theme1/bg.png&#39;, profile_background_tile=False, profile_image_url=&#39;http://pbs.twimg.com/profile_images/1295975423654977537/dHw9JcrK_normal.jpg&#39;, profile_image_url_https=&#39;https://pbs.twimg.com/profile_images/1295975423654977537/dHw9JcrK_normal.jpg&#39;, profile_banner_url=&#39;https://pbs.twimg.com/profile_banners/44196397/1576183471&#39;, profile_link_color=&#39;0084B4&#39;, profile_sidebar_border_color=&#39;C0DEED&#39;, profile_sidebar_fill_color=&#39;DDEEF6&#39;, profile_text_color=&#39;333333&#39;, profile_use_background_image=True, has_extended_profile=True, default_profile=False, default_profile_image=False, following=False, follow_request_sent=False, notifications=False, translator_type=&#39;none&#39;)"
     },
     "metadata": {},
     "execution_count": 5
    }
   ],
   "source": [
    "twitter_user = TWITTER.get_user('elonmusk')\n",
    "twitter_user"
   ]
  },
  {
   "cell_type": "code",
   "execution_count": 6,
   "metadata": {},
   "outputs": [
    {
     "output_type": "execute_result",
     "data": {
      "text/plain": "44196397"
     },
     "metadata": {},
     "execution_count": 6
    }
   ],
   "source": [
    "twitter_user.id"
   ]
  },
  {
   "cell_type": "code",
   "execution_count": 7,
   "metadata": {},
   "outputs": [
    {
     "output_type": "execute_result",
     "data": {
      "text/plain": "com/…&#39;}, &#39;quoted_status&#39;: {&#39;created_at&#39;: &#39;Thu Sep 10 21:13:16 +0000 2020&#39;, &#39;id&#39;: 1304166070752743424, &#39;id_str&#39;: &#39;1304166070752743424&#39;, &#39;full_text&#39;: &#39;Tesla Giga Berlin Has Capacity for 40K Employees in 3 Shifts, Says Minster Steinbach\\n\\nhttps://t.co/2FowJgt8el&#39;, &#39;truncated&#39;: False, &#39;display_text_range&#39;: [0, 109], &#39;entities&#39;: {&#39;hashtags&#39;: [], &#39;symbols&#39;: [], &#39;user_mentions&#39;: [], &#39;urls&#39;: [{&#39;url&#39;: &#39;https://t.co/2FowJgt8el&#39;, &#39;expanded_url&#39;: &#39;https://www.tesmanian.com/blogs/tesmanian-blog/meeting-in-grunneid-on-the-future-of-transportation-in-the-region&#39;, &#39;display_url&#39;: &#39;tesmanian.com/blogs/tesmania…&#39;, &#39;indices&#39;: [86, 109]}]}, &#39;source&#39;: &#39;&lt;a href=&quot;http://twitter.com/download/iphone&quot; rel=&quot;nofollow&quot;&gt;Twitter for iPhone&lt;/a&gt;&#39;, &#39;in_reply_to_status_id&#39;: None, &#39;in_reply_to_status_id_str&#39;: None, &#39;in_reply_to_user_id&#39;: None, &#39;in_reply_to_user_id_str&#39;: None, &#39;in_reply_to_screen_name&#39;: None, &#39;user&#39;: {&#39;id&#39;: 1100520274200416256, &#39;id_str&#39;: &#39;1100520274200416256&#39;, &#39;name&#39;: &#39;Tesmanian.com&#39;, &#39;screen_name&#39;: &#39;Tesmanian_com&#39;, &#39;location&#39;: &#39;&#39;, &#39;description&#39;: &#39;Tesla, SpaceX, Elon Musk and related News+Info.&#39;, &#39;url&#39;: &#39;https://t.co/UIweVE45be&#39;, &#39;entities&#39;: {&#39;url&#39;: {&#39;urls&#39;: [{&#39;url&#39;: &#39;https://t.co/UIweVE45be&#39;, &#39;expanded_url&#39;: &#39;http://www.tesmanian.com&#39;, &#39;display_url&#39;: &#39;tesmanian.com&#39;, &#39;indices&#39;: [0, 23]}]}, &#39;description&#39;: {&#39;urls&#39;: []}}, &#39;protected&#39;: False, &#39;followers_count&#39;: 19196, &#39;friends_count&#39;: 67, &#39;listed_count&#39;: 156, &#39;created_at&#39;: &#39;Tue Feb 26 22:17:34 +0000 2019&#39;, &#39;favourites_count&#39;: 1996, &#39;utc_offset&#39;: None, &#39;time_zone&#39;: None, &#39;geo_enabled&#39;: False, &#39;verified&#39;: False, &#39;statuses_count&#39;: 3112, &#39;lang&#39;: None, &#39;contributors_enabled&#39;: False, &#39;is_translator&#39;: False, &#39;is_translation_enabled&#39;: False, &#39;profile_background_color&#39;: &#39;F5F8FA&#39;, &#39;profile_background_image_url&#39;: None, &#39;profile_background_image_url_https&#39;: None, &#39;profile_background_tile&#39;: False, &#39;profile_image_url&#39;: &#39;http://pbs.twimg.com/profile_images/1207102504401420289/xMprinSB_normal.png&#39;, &#39;profile_image_url_https&#39;: &#39;https://pbs.twimg.com/profile_images/1207102504401420289/xMprinSB_normal.png&#39;, &#39;profile_banner_url&#39;: &#39;https://pbs.twimg.com/profile_banners/1100520274200416256/1575927209&#39;, &#39;profile_link_color&#39;: &#39;1DA1F2&#39;, &#39;profile_sidebar_border_color&#39;: &#39;C0DEED&#39;, &#39;profile_sidebar_fill_color&#39;: &#39;DDEEF6&#39;, &#39;profile_text_color&#39;: &#39;333333&#39;, &#39;profile_use_background_image&#39;: True, &#39;has_extended_profile&#39;: False, &#39;default_profile&#39;: True, &#39;default_profile_image&#39;: False, &#39;following&#39;: False, &#39;follow_request_sent&#39;: False, &#39;notifications&#39;: False, &#39;translator_type&#39;: &#39;none&#39;}, &#39;geo&#39;: None, &#39;coordinates&#39;: None, &#39;place&#39;: None, &#39;contributors&#39;: None, &#39;is_quote_status&#39;: False, &#39;retweet_count&#39;: 216, &#39;favorite_count&#39;: 2344, &#39;favorited&#39;: False, &#39;retweeted&#39;: False, &#39;possibly_sensitive&#39;: False, &#39;lang&#39;: &#39;en&#39;}, &#39;retweet_count&#39;: 2594, &#39;favorite_count&#39;: 37927, &#39;favorited&#39;: False, &#39;retweeted&#39;: False, &#39;possibly_sensitive&#39;: False, &#39;lang&#39;: &#39;de&#39;}, created_at=datetime.datetime(2020, 9, 10, 21, 49, 27), id=1304175179606695937, id_str=&#39;1304175179606695937&#39;, full_text=&#39;Bitte arbeiten Sie bei Tesla Giga Berlin! Es wird super Spaß machen!! https://t.co/FcNoPr2oII&#39;, truncated=False, display_text_range=[0, 69], entities={&#39;hashtags&#39;: [], &#39;symbols&#39;: [], &#39;user_mentions&#39;: [], &#39;urls&#39;: [{&#39;url&#39;: &#39;https://t.co/FcNoPr2oII&#39;, &#39;expanded_url&#39;: &#39;https://twitter.com/Tesmanian_com/status/1304166070752743424&#39;, &#39;display_url&#39;: &#39;twitter.com/Tesmanian_com/…&#39;, &#39;indices&#39;: [70, 93]}]}, source=&#39;Twitter for iPhone&#39;, source_url=&#39;http://twitter.com/download/iphone&#39;, in_reply_to_status_id=None, in_reply_to_status_id_str=None, in_reply_to_user_id=None, in_reply_to_user_id_str=None, in_reply_to_screen_name=None, author=User(_api=&lt;tweepy.api.API object at 0x10e27ddc0&gt;, _json={&#39;id&#39;: 44196397, &#39;id_str&#39;: &#39;44196397&#39;, &#39;name&#39;: &#39;Elon Musk&#39;, &#39;screen_name&#39;: &#39;elonmusk&#39;, &#39;location&#39;: &#39;&#39;, &#39;description&#39;: &#39;&#39;, &#39;url&#39;: None, &#39;entities&#39;: {&#39;description&#39;: {&#39;urls&#39;: []}}, &#39;protected&#39;: False, &#39;followers_count&#39;: 39058869, &#39;friends_count&#39;: 97, &#39;listed_count&#39;: 56237, &#39;created_at&#39;: &#39;Tue Jun 02 20:12:29 +0000 2009&#39;, &#39;favourites_count&#39;: 6758, &#39;utc_offset&#39;: None, &#39;time_zone&#39;: None, &#39;geo_enabled&#39;: False, &#39;verified&#39;: True, &#39;statuses_count&#39;: 12449, &#39;lang&#39;: None, &#39;contributors_enabled&#39;: False, &#39;is_translator&#39;: False, &#39;is_translation_enabled&#39;: False, &#39;profile_background_color&#39;: &#39;C0DEED&#39;, &#39;profile_background_image_url&#39;: &#39;http://abs.twimg.com/images/themes/theme1/bg.png&#39;, &#39;profile_background_image_url_https&#39;: &#39;https://abs.twimg.com/images/themes/theme1/bg.png&#39;, &#39;profile_background_tile&#39;: False, &#39;profile_image_url&#39;: &#39;http://pbs.twimg.com/profile_images/1295975423654977537/dHw9JcrK_normal.jpg&#39;, &#39;profile_image_url_https&#39;: &#39;https://pbs.twimg.com/profile_images/1295975423654977537/dHw9JcrK_normal.jpg&#39;, &#39;profile_banner_url&#39;: &#39;https://pbs.twimg.com/profile_banners/44196397/1576183471&#39;, &#39;profile_link_color&#39;: &#39;0084B4&#39;, &#39;profile_sidebar_border_color&#39;: &#39;C0DEED&#39;, &#39;profile_sidebar_fill_color&#39;: &#39;DDEEF6&#39;, &#39;profile_text_color&#39;: &#39;333333&#39;, &#39;profile_use_background_image&#39;: True, &#39;has_extended_profile&#39;: True, &#39;default_profile&#39;: False, &#39;default_profile_image&#39;: False, &#39;following&#39;: False, &#39;follow_request_sent&#39;: False, &#39;notifications&#39;: False, &#39;translator_type&#39;: &#39;none&#39;}, id=44196397, id_str=&#39;44196397&#39;, name=&#39;Elon Musk&#39;, screen_name=&#39;elonmusk&#39;, location=&#39;&#39;, description=&#39;&#39;, url=None, entities={&#39;description&#39;: {&#39;urls&#39;: []}}, protected=False, followers_count=39058869, friends_count=97, listed_count=56237, created_at=datetime.datetime(2009, 6, 2, 20, 12, 29), favourites_count=6758, utc_offset=None, time_zone=None, geo_enabled=False, verified=True, statuses_count=12449, lang=None, contributors_enabled=False, is_translator=False, is_translation_enabled=False, profile_background_color=&#39;C0DEED&#39;, profile_background_image_url=&#39;http://abs.twimg.com/images/themes/theme1/bg.png&#39;, profile_background_image_url_https=&#39;https://abs.twimg.com/images/themes/theme1/bg.png&#39;, profile_background_tile=False, profile_image_url=&#39;http://pbs.twimg.com/profile_images/1295975423654977537/dHw9JcrK_normal.jpg&#39;, profile_image_url_https=&#39;https://pbs.twimg.com/profile_images/1295975423654977537/dHw9JcrK_normal.jpg&#39;, profile_banner_url=&#39;https://pbs.twimg.com/profile_banners/44196397/1576183471&#39;, profile_link_color=&#39;0084B4&#39;, profile_sidebar_border_color=&#39;C0DEED&#39;, profile_sidebar_fill_color=&#39;DDEEF6&#39;, profile_text_color=&#39;333333&#39;, profile_use_background_image=True, has_extended_profile=True, default_profile=False, default_profile_image=False, following=False, follow_request_sent=False, notifications=False, translator_type=&#39;none&#39;), user=User(_api=&lt;tweepy.api.API object at 0x10e27ddc0&gt;, _json={&#39;id&#39;: 44196397, &#39;id_str&#39;: &#39;44196397&#39;, &#39;name&#39;: &#39;Elon Musk&#39;, &#39;screen_name&#39;: &#39;elonmusk&#39;, &#39;location&#39;: &#39;&#39;, &#39;description&#39;: &#39;&#39;, &#39;url&#39;: None, &#39;entities&#39;: {&#39;description&#39;: {&#39;urls&#39;: []}}, &#39;protected&#39;: False, &#39;followers_count&#39;: 39058869, &#39;friends_count&#39;: 97, &#39;listed_count&#39;: 56237, &#39;created_at&#39;: &#39;Tue Jun 02 20:12:29 +0000 2009&#39;, &#39;favourites_count&#39;: 6758, &#39;utc_offset&#39;: None, &#39;time_zone&#39;: None, &#39;geo_enabled&#39;: False, &#39;verified&#39;: True, &#39;statuses_count&#39;: 12449, &#39;lang&#39;: None, &#39;contributors_enabled&#39;: False, &#39;is_translator&#39;: False, &#39;is_translation_enabled&#39;: False, &#39;profile_background_color&#39;: &#39;C0DEED&#39;, &#39;profile_background_image_url&#39;: &#39;http://abs.twimg.com/images/themes/theme1/bg.png&#39;, &#39;profile_background_image_url_https&#39;: &#39;https://abs.twimg.com/images/themes/theme1/bg.png&#39;, &#39;profile_background_tile&#39;: False, &#39;profile_image_url&#39;: &#39;http://pbs.twimg.com/profile_images/1295975423654977537/dHw9JcrK_normal.jpg&#39;, &#39;profile_image_url_https&#39;: &#39;https://pbs.twimg.com/profile_images/1295975423654977537/dHw9JcrK_normal.jpg&#39;, &#39;profile_banner_url&#39;: &#39;https://pbs.twimg.com/profile_banners/44196397/1576183471&#39;, &#39;profile_link_color&#39;: &#39;0084B4&#39;, &#39;profile_sidebar_border_color&#39;: &#39;C0DEED&#39;, &#39;profile_sidebar_fill_color&#39;: &#39;DDEEF6&#39;, &#39;profile_text_color&#39;: &#39;333333&#39;, &#39;profile_use_background_image&#39;: True, &#39;has_extended_profile&#39;: True, &#39;default_profile&#39;: False, &#39;default_profile_image&#39;: False, &#39;following&#39;: False, &#39;follow_request_sent&#39;: False, &#39;notifications&#39;: False, &#39;translator_type&#39;: &#39;none&#39;}, id=44196397, id_str=&#39;44196397&#39;, name=&#39;Elon Musk&#39;, screen_name=&#39;elonmusk&#39;, location=&#39;&#39;, description=&#39;&#39;, url=None, entities={&#39;description&#39;: {&#39;urls&#39;: []}}, protected=False, followers_count=39058869, friends_count=97, listed_count=56237, created_at=datetime.datetime(2009, 6, 2, 20, 12, 29), favourites_count=6758, utc_offset=None, time_zone=None, geo_enabled=False, verified=True, statuses_count=12449, lang=None, contributors_enabled=False, is_translator=False, is_translation_enabled=False, profile_background_color=&#39;C0DEED&#39;, profile_background_image_url=&#39;http://abs.twimg.com/images/themes/theme1/bg.png&#39;, profile_background_image_url_https=&#39;https://abs.twimg.com/images/themes/theme1/bg.png&#39;, profile_background_tile=False, profile_image_url=&#39;http://pbs.twimg.com/profile_images/1295975423654977537/dHw9JcrK_normal.jpg&#39;, profile_image_url_https=&#39;https://pbs.twimg.com/profile_images/1295975423654977537/dHw9JcrK_normal.jpg&#39;, profile_banner_url=&#39;https://pbs.twimg.com/profile_banners/44196397/1576183471&#39;, profile_link_color=&#39;0084B4&#39;, profile_sidebar_border_color=&#39;C0DEED&#39;, profile_sidebar_fill_color=&#39;DDEEF6&#39;, profile_text_color=&#39;333333&#39;, profile_use_background_image=True, has_extended_profile=True, default_profile=False, default_profile_image=False, following=False, follow_request_sent=False, notifications=False, translator_type=&#39;none&#39;), geo=None, coordinates=None, place=None, contributors=None, is_quote_status=True, quoted_status_id=1304166070752743424, quoted_status_id_str=&#39;1304166070752743424&#39;, quoted_status_permalink={&#39;url&#39;: &#39;https://t.co/FcNoPr2oII&#39;, &#39;expanded&#39;: &#39;https://twitter.com/Tesmanian_com/status/1304166070752743424&#39;, &#39;display&#39;: &#39;twitter.com/Tesmanian_com/…&#39;}, quoted_status=Status(_api=&lt;tweepy.api.API object at 0x10e27ddc0&gt;, _json={&#39;created_at&#39;: &#39;Thu Sep 10 21:13:16 +0000 2020&#39;, &#39;id&#39;: 1304166070752743424, &#39;id_str&#39;: &#39;1304166070752743424&#39;, &#39;full_text&#39;: &#39;Tesla Giga Berlin Has Capacity for 40K Employees in 3 Shifts, Says Minster Steinbach\\n\\nhttps://t.co/2FowJgt8el&#39;, &#39;truncated&#39;: False, &#39;display_text_range&#39;: [0, 109], &#39;entities&#39;: {&#39;hashtags&#39;: [], &#39;symbols&#39;: [], &#39;user_mentions&#39;: [], &#39;urls&#39;: [{&#39;url&#39;: &#39;https://t.co/2FowJgt8el&#39;, &#39;expanded_url&#39;: &#39;https://www.tesmanian.com/blogs/tesmanian-blog/meeting-in-grunneid-on-the-future-of-transportation-in-the-region&#39;, &#39;display_url&#39;: &#39;tesmanian.com/blogs/tesmania…&#39;, &#39;indices&#39;: [86, 109]}]}, &#39;source&#39;: &#39;&lt;a href=&quot;http://twitter.com/download/iphone&quot; rel=&quot;nofollow&quot;&gt;Twitter for iPhone&lt;/a&gt;&#39;, &#39;in_reply_to_status_id&#39;: None, &#39;in_reply_to_status_id_str&#39;: None, &#39;in_reply_to_user_id&#39;: None, &#39;in_reply_to_user_id_str&#39;: None, &#39;in_reply_to_screen_name&#39;: None, &#39;user&#39;: {&#39;id&#39;: 1100520274200416256, &#39;id_str&#39;: &#39;1100520274200416256&#39;, &#39;name&#39;: &#39;Tesmanian.com&#39;, &#39;screen_name&#39;: &#39;Tesmanian_com&#39;, &#39;location&#39;: &#39;&#39;, &#39;description&#39;: &#39;Tesla, SpaceX, Elon Musk and related News+Info.&#39;, &#39;url&#39;: &#39;https://t.co/UIweVE45be&#39;, &#39;entities&#39;: {&#39;url&#39;: {&#39;urls&#39;: [{&#39;url&#39;: &#39;https://t.co/UIweVE45be&#39;, &#39;expanded_url&#39;: &#39;http://www.tesmanian.com&#39;, &#39;display_url&#39;: &#39;tesmanian.com&#39;, &#39;indices&#39;: [0, 23]}]}, &#39;description&#39;: {&#39;urls&#39;: []}}, &#39;protected&#39;: False, &#39;followers_count&#39;: 19196, &#39;friends_count&#39;: 67, &#39;listed_count&#39;: 156, &#39;created_at&#39;: &#39;Tue Feb 26 22:17:34 +0000 2019&#39;, &#39;favourites_count&#39;: 1996, &#39;utc_offset&#39;: None, &#39;time_zone&#39;: None, &#39;geo_enabled&#39;: False, &#39;verified&#39;: False, &#39;statuses_count&#39;: 3112, &#39;lang&#39;: None, &#39;contributors_enabled&#39;: False, &#39;is_translator&#39;: False, &#39;is_translation_enabled&#39;: False, &#39;profile_background_color&#39;: &#39;F5F8FA&#39;, &#39;profile_background_image_url&#39;: None, &#39;profile_background_image_url_https&#39;: None, &#39;profile_background_tile&#39;: False, &#39;profile_image_url&#39;: &#39;http://pbs.twimg.com/profile_images/1207102504401420289/xMprinSB_normal.png&#39;, &#39;profile_image_url_https&#39;: &#39;https://pbs.twimg.com/profile_images/1207102504401420289/xMprinSB_normal.png&#39;, &#39;profile_banner_url&#39;: &#39;https://pbs.twimg.com/profile_banners/1100520274200416256/1575927209&#39;, &#39;profile_link_color&#39;: &#39;1DA1F2&#39;, &#39;profile_sidebar_border_color&#39;: &#39;C0DEED&#39;, &#39;profile_sidebar_fill_color&#39;: &#39;DDEEF6&#39;, &#39;profile_text_color&#39;: &#39;333333&#39;, &#39;profile_use_background_image&#39;: True, &#39;has_extended_profile&#39;: False, &#39;default_profile&#39;: True, &#39;default_profile_image&#39;: False, &#39;following&#39;: False, &#39;follow_request_sent&#39;: False, &#39;notifications&#39;: False, &#39;translator_type&#39;: &#39;none&#39;}, &#39;geo&#39;: None, &#39;coordinates&#39;: None, &#39;place&#39;: None, &#39;contributors&#39;: None, &#39;is_quote_status&#39;: False, &#39;retweet_count&#39;: 216, &#39;favorite_count&#39;: 2344, &#39;favorited&#39;: False, &#39;retweeted&#39;: False, &#39;possibly_sensitive&#39;: False, &#39;lang&#39;: &#39;en&#39;}, created_at=datetime.datetime(2020, 9, 10, 21, 13, 16), id=1304166070752743424, id_str=&#39;1304166070752743424&#39;, full_text=&#39;Tesla Giga Berlin Has Capacity for 40K Employees in 3 Shifts, Says Minster Steinbach\\n\\nhttps://t.co/2FowJgt8el&#39;, truncated=False, display_text_range=[0, 109], entities={&#39;hashtags&#39;: [], &#39;symbols&#39;: [], &#39;user_mentions&#39;: [], &#39;urls&#39;: [{&#39;url&#39;: &#39;https://t.co/2FowJgt8el&#39;, &#39;expanded_url&#39;: &#39;https://www.tesmanian.com/blogs/tesmanian-blog/meeting-in-grunneid-on-the-future-of-transportation-in-the-region&#39;, &#39;display_url&#39;: &#39;tesmanian.com/blogs/tesmania…&#39;, &#39;indices&#39;: [86, 109]}]}, source=&#39;Twitter for iPhone&#39;, source_url=&#39;http://twitter.com/download/iphone&#39;, in_reply_to_status_id=None, in_reply_to_status_id_str=None, in_reply_to_user_id=None, in_reply_to_user_id_str=None, in_reply_to_screen_name=None, author=User(_api=&lt;tweepy.api.API object at 0x10e27ddc0&gt;, _json={&#39;id&#39;: 1100520274200416256, &#39;id_str&#39;: &#39;1100520274200416256&#39;, &#39;name&#39;: &#39;Tesmanian.com&#39;, &#39;screen_name&#39;: &#39;Tesmanian_com&#39;, &#39;location&#39;: &#39;&#39;, &#39;description&#39;: &#39;Tesla, SpaceX, Elon Musk and related News+Info.&#39;, &#39;url&#39;: &#39;https://t.co/UIweVE45be&#39;, &#39;entities&#39;: {&#39;url&#39;: {&#39;urls&#39;: [{&#39;url&#39;: &#39;https://t.co/UIweVE45be&#39;, &#39;expanded_url&#39;: &#39;http://www.tesmanian.com&#39;, &#39;display_url&#39;: &#39;tesmanian.com&#39;, &#39;indices&#39;: [0, 23]}]}, &#39;description&#39;: {&#39;urls&#39;: []}}, &#39;protected&#39;: False, &#39;followers_count&#39;: 19196, &#39;friends_count&#39;: 67, &#39;listed_count&#39;: 156, &#39;created_at&#39;: &#39;Tue Feb 26 22:17:34 +0000 2019&#39;, &#39;favourites_count&#39;: 1996, &#39;utc_offset&#39;: None, &#39;time_zone&#39;: None, &#39;geo_enabled&#39;: False, &#39;verified&#39;: False, &#39;statuses_count&#39;: 3112, &#39;lang&#39;: None, &#39;contributors_enabled&#39;: False, &#39;is_translator&#39;: False, &#39;is_translation_enabled&#39;: False, &#39;profile_background_color&#39;: &#39;F5F8FA&#39;, &#39;profile_background_image_url&#39;: None, &#39;profile_background_image_url_https&#39;: None, &#39;profile_background_tile&#39;: False, &#39;profile_image_url&#39;: &#39;http://pbs.twimg.com/profile_images/1207102504401420289/xMprinSB_normal.png&#39;, &#39;profile_image_url_https&#39;: &#39;https://pbs.twimg.com/profile_images/1207102504401420289/xMprinSB_normal.png&#39;, &#39;profile_banner_url&#39;: &#39;https://pbs.twimg.com/profile_banners/1100520274200416256/1575927209&#39;, &#39;profile_link_color&#39;: &#39;1DA1F2&#39;, &#39;profile_sidebar_border_color&#39;: &#39;C0DEED&#39;, &#39;profile_sidebar_fill_color&#39;: &#39;DDEEF6&#39;, &#39;profile_text_color&#39;: &#39;333333&#39;, &#39;profile_use_background_image&#39;: True, &#39;has_extended_profile&#39;: False, &#39;default_profile&#39;: True, &#39;default_profile_image&#39;: False, &#39;following&#39;: False, &#39;follow_request_sent&#39;: False, &#39;notifications&#39;: False, &#39;translator_type&#39;: &#39;none&#39;}, id=1100520274200416256, id_str=&#39;1100520274200416256&#39;, name=&#39;Tesmanian.com&#39;, screen_name=&#39;Tesmanian_com&#39;, location=&#39;&#39;, description=&#39;Tesla, SpaceX, Elon Musk and related News+Info.&#39;, url=&#39;https://t.co/UIweVE45be&#39;, entities={&#39;url&#39;: {&#39;urls&#39;: [{&#39;url&#39;: &#39;https://t.co/UIweVE45be&#39;, &#39;expanded_url&#39;: &#39;http://www.tesmanian.com&#39;, &#39;display_url&#39;: &#39;tesmanian.com&#39;, &#39;indices&#39;: [0, 23]}]}, &#39;description&#39;: {&#39;urls&#39;: []}}, protected=False, followers_count=19196, friends_count=67, listed_count=156, created_at=datetime.datetime(2019, 2, 26, 22, 17, 34), favourites_count=1996, utc_offset=None, time_zone=None, geo_enabled=False, verified=False, statuses_count=3112, lang=None, contributors_enabled=False, is_translator=False, is_translation_enabled=False, profile_background_color=&#39;F5F8FA&#39;, profile_background_image_url=None, profile_background_image_url_https=None, profile_background_tile=False, profile_image_url=&#39;http://pbs.twimg.com/profile_images/1207102504401420289/xMprinSB_normal.png&#39;, profile_image_url_https=&#39;https://pbs.twimg.com/profile_images/1207102504401420289/xMprinSB_normal.png&#39;, profile_banner_url=&#39;https://pbs.twimg.com/profile_banners/1100520274200416256/1575927209&#39;, profile_link_color=&#39;1DA1F2&#39;, profile_sidebar_border_color=&#39;C0DEED&#39;, profile_sidebar_fill_color=&#39;DDEEF6&#39;, profile_text_color=&#39;333333&#39;, profile_use_background_image=True, has_extended_profile=False, default_profile=True, default_profile_image=False, following=False, follow_request_sent=False, notifications=False, translator_type=&#39;none&#39;), user=User(_api=&lt;tweepy.api.API object at 0x10e27ddc0&gt;, _json={&#39;id&#39;: 1100520274200416256, &#39;id_str&#39;: &#39;1100520274200416256&#39;, &#39;name&#39;: &#39;Tesmanian.com&#39;, &#39;screen_name&#39;: &#39;Tesmanian_com&#39;, &#39;location&#39;: &#39;&#39;, &#39;description&#39;: &#39;Tesla, SpaceX, Elon Musk and related News+Info.&#39;, &#39;url&#39;: &#39;https://t.co/UIweVE45be&#39;, &#39;entities&#39;: {&#39;url&#39;: {&#39;urls&#39;: [{&#39;url&#39;: &#39;https://t.co/UIweVE45be&#39;, &#39;expanded_url&#39;: &#39;http://www.tesmanian.com&#39;, &#39;display_url&#39;: &#39;tesmanian.com&#39;, &#39;indices&#39;: [0, 23]}]}, &#39;description&#39;: {&#39;urls&#39;: []}}, &#39;protected&#39;: False, &#39;followers_count&#39;: 19196, &#39;friends_count&#39;: 67, &#39;listed_count&#39;: 156, &#39;created_at&#39;: &#39;Tue Feb 26 22:17:34 +0000 2019&#39;, &#39;favourites_count&#39;: 1996, &#39;utc_offset&#39;: None, &#39;time_zone&#39;: None, &#39;geo_enabled&#39;: False, &#39;verified&#39;: False, &#39;statuses_count&#39;: 3112, &#39;lang&#39;: None, &#39;contributors_enabled&#39;: False, &#39;is_translator&#39;: False, &#39;is_translation_enabled&#39;: False, &#39;profile_background_color&#39;: &#39;F5F8FA&#39;, &#39;profile_background_image_url&#39;: None, &#39;profile_background_image_url_https&#39;: None, &#39;profile_background_tile&#39;: False, &#39;profile_image_url&#39;: &#39;http://pbs.twimg.com/profile_images/1207102504401420289/xMprinSB_normal.png&#39;, &#39;profile_image_url_https&#39;: &#39;https://pbs.twimg.com/profile_images/1207102504401420289/xMprinSB_normal.png&#39;, &#39;profile_banner_url&#39;: &#39;https://pbs.twimg.com/profile_banners/1100520274200416256/1575927209&#39;, &#39;profile_link_color&#39;: &#39;1DA1F2&#39;, &#39;profile_sidebar_border_color&#39;: &#39;C0DEED&#39;, &#39;profile_sidebar_fill_color&#39;: &#39;DDEEF6&#39;, &#39;profile_text_color&#39;: &#39;333333&#39;, &#39;profile_use_background_image&#39;: True, &#39;has_extended_profile&#39;: False, &#39;default_profile&#39;: True, &#39;default_profile_image&#39;: False, &#39;following&#39;: False, &#39;follow_request_sent&#39;: False, &#39;notifications&#39;: False, &#39;translator_type&#39;: &#39;none&#39;}, id=1100520274200416256, id_str=&#39;1100520274200416256&#39;, name=&#39;Tesmanian.com&#39;, screen_name=&#39;Tesmanian_com&#39;, location=&#39;&#39;, description=&#39;Tesla, SpaceX, Elon Musk and related News+Info.&#39;, url=&#39;https://t.co/UIweVE45be&#39;, entities={&#39;url&#39;: {&#39;urls&#39;: [{&#39;url&#39;: &#39;https://t.co/UIweVE45be&#39;, &#39;expanded_url&#39;: &#39;http://www.tesmanian.com&#39;, &#39;display_url&#39;: &#39;tesmanian.com&#39;, &#39;indices&#39;: [0, 23]}]}, &#39;description&#39;: {&#39;urls&#39;: []}}, protected=False, followers_count=19196, friends_count=67, listed_count=156, created_at=datetime.datetime(2019, 2, 26, 22, 17, 34), favourites_count=1996, utc_offset=None, time_zone=None, geo_enabled=False, verified=False, statuses_count=3112, lang=None, contributors_enabled=False, is_translator=False, is_translation_enabled=False, profile_background_color=&#39;F5F8FA&#39;, profile_background_image_url=None, profile_background_image_url_https=None, profile_background_tile=False, profile_image_url=&#39;http://pbs.twimg.com/profile_images/1207102504401420289/xMprinSB_normal.png&#39;, profile_image_url_https=&#39;https://pbs.twimg.com/profile_images/1207102504401420289/xMprinSB_normal.png&#39;, profile_banner_url=&#39;https://pbs.twimg.com/profile_banners/1100520274200416256/1575927209&#39;, profile_link_color=&#39;1DA1F2&#39;, profile_sidebar_border_color=&#39;C0DEED&#39;, profile_sidebar_fill_color=&#39;DDEEF6&#39;, profile_text_color=&#39;333333&#39;, profile_use_background_image=True, has_extended_profile=False, default_profile=True, default_profile_image=False, following=False, follow_request_sent=False, notifications=False, translator_type=&#39;none&#39;), geo=None, coordinates=None, place=None, contributors=None, is_quote_status=False, retweet_count=216, favorite_count=2344, favorited=False, retweeted=False, possibly_sensitive=False, lang=&#39;en&#39;), retweet_count=2594, favorite_count=37927, favorited=False, retweeted=False, possibly_sensitive=False, lang=&#39;de&#39;)]"
     },
     "metadata": {},
     "execution_count": 7
    }
   ],
   "source": [
    "elon_tweets = twitter_user.timeline(count=200,\n",
    "                                    exclude_replies=True,\n",
    "                                    include_rts=False,\n",
    "                                    # max_id='',\n",
    "                                    tweet_mode='extended')\n",
    "elon_tweets"
   ]
  },
  {
   "cell_type": "code",
   "execution_count": 8,
   "metadata": {},
   "outputs": [
    {
     "output_type": "execute_result",
     "data": {
      "text/plain": "&#39;Thanks Tesla Team for great work on deliveries! For new owners, we super appreciate accommodating us on delivery timing! Definitely one of our toughest quarters in global logistics.&#39;"
     },
     "metadata": {},
     "execution_count": 8
    }
   ],
   "source": [
    "elon_tweets[1].full_text"
   ]
  },
  {
   "cell_type": "markdown",
   "metadata": {},
   "source": [
    "### SpaCy Embeddings"
   ]
  },
  {
   "cell_type": "code",
   "execution_count": null,
   "metadata": {},
   "outputs": [],
   "source": []
  },
  {
   "cell_type": "code",
   "execution_count": 9,
   "metadata": {
    "tags": []
   },
   "outputs": [],
   "source": [
    "import spacy\n"
   ]
  },
  {
   "cell_type": "code",
   "execution_count": 15,
   "metadata": {
    "tags": []
   },
   "outputs": [
    {
     "output_type": "stream",
     "name": "stdout",
     "text": "Collecting en_core_web_md==2.3.1\n  Downloading https://github.com/explosion/spacy-models/releases/download/en_core_web_md-2.3.1/en_core_web_md-2.3.1.tar.gz (50.8 MB)\n\u001b[K     |████████████████████████████████| 50.8 MB 3.7 MB/s \n\u001b[?25hRequirement already satisfied: spacy&lt;2.4.0,&gt;=2.3.0 in /opt/anaconda3/envs/Lambda/lib/python3.8/site-packages (from en_core_web_md==2.3.1) (2.3.2)\nRequirement already satisfied: preshed&lt;3.1.0,&gt;=3.0.2 in /opt/anaconda3/envs/Lambda/lib/python3.8/site-packages (from spacy&lt;2.4.0,&gt;=2.3.0-&gt;en_core_web_md==2.3.1) (3.0.2)\nRequirement already satisfied: wasabi&lt;1.1.0,&gt;=0.4.0 in /opt/anaconda3/envs/Lambda/lib/python3.8/site-packages (from spacy&lt;2.4.0,&gt;=2.3.0-&gt;en_core_web_md==2.3.1) (0.8.0)\nRequirement already satisfied: plac&lt;1.2.0,&gt;=0.9.6 in /opt/anaconda3/envs/Lambda/lib/python3.8/site-packages (from spacy&lt;2.4.0,&gt;=2.3.0-&gt;en_core_web_md==2.3.1) (1.1.3)\nRequirement already satisfied: thinc==7.4.1 in /opt/anaconda3/envs/Lambda/lib/python3.8/site-packages (from spacy&lt;2.4.0,&gt;=2.3.0-&gt;en_core_web_md==2.3.1) (7.4.1)\nRequirement already satisfied: tqdm&lt;5.0.0,&gt;=4.38.0 in /opt/anaconda3/envs/Lambda/lib/python3.8/site-packages (from spacy&lt;2.4.0,&gt;=2.3.0-&gt;en_core_web_md==2.3.1) (4.50.0)\nRequirement already satisfied: requests&lt;3.0.0,&gt;=2.13.0 in /opt/anaconda3/envs/Lambda/lib/python3.8/site-packages (from spacy&lt;2.4.0,&gt;=2.3.0-&gt;en_core_web_md==2.3.1) (2.24.0)\nRequirement already satisfied: blis&lt;0.5.0,&gt;=0.4.0 in /opt/anaconda3/envs/Lambda/lib/python3.8/site-packages (from spacy&lt;2.4.0,&gt;=2.3.0-&gt;en_core_web_md==2.3.1) (0.4.1)\nRequirement already satisfied: setuptools in /opt/anaconda3/envs/Lambda/lib/python3.8/site-packages (from spacy&lt;2.4.0,&gt;=2.3.0-&gt;en_core_web_md==2.3.1) (49.6.0.post20200925)\nRequirement already satisfied: numpy&gt;=1.15.0 in /opt/anaconda3/envs/Lambda/lib/python3.8/site-packages (from spacy&lt;2.4.0,&gt;=2.3.0-&gt;en_core_web_md==2.3.1) (1.19.2)\nRequirement already satisfied: cymem&lt;2.1.0,&gt;=2.0.2 in /opt/anaconda3/envs/Lambda/lib/python3.8/site-packages (from spacy&lt;2.4.0,&gt;=2.3.0-&gt;en_core_web_md==2.3.1) (2.0.3)\nRequirement already satisfied: murmurhash&lt;1.1.0,&gt;=0.28.0 in /opt/anaconda3/envs/Lambda/lib/python3.8/site-packages (from spacy&lt;2.4.0,&gt;=2.3.0-&gt;en_core_web_md==2.3.1) (1.0.2)\nRequirement already satisfied: srsly&lt;1.1.0,&gt;=1.0.2 in /opt/anaconda3/envs/Lambda/lib/python3.8/site-packages (from spacy&lt;2.4.0,&gt;=2.3.0-&gt;en_core_web_md==2.3.1) (1.0.2)\nRequirement already satisfied: catalogue&lt;1.1.0,&gt;=0.0.7 in /opt/anaconda3/envs/Lambda/lib/python3.8/site-packages (from spacy&lt;2.4.0,&gt;=2.3.0-&gt;en_core_web_md==2.3.1) (1.0.0)\nRequirement already satisfied: certifi&gt;=2017.4.17 in /opt/anaconda3/envs/Lambda/lib/python3.8/site-packages (from requests&lt;3.0.0,&gt;=2.13.0-&gt;spacy&lt;2.4.0,&gt;=2.3.0-&gt;en_core_web_md==2.3.1) (2020.6.20)\nRequirement already satisfied: chardet&lt;4,&gt;=3.0.2 in /opt/anaconda3/envs/Lambda/lib/python3.8/site-packages (from requests&lt;3.0.0,&gt;=2.13.0-&gt;spacy&lt;2.4.0,&gt;=2.3.0-&gt;en_core_web_md==2.3.1) (3.0.4)\nRequirement already satisfied: idna&lt;3,&gt;=2.5 in /opt/anaconda3/envs/Lambda/lib/python3.8/site-packages (from requests&lt;3.0.0,&gt;=2.13.0-&gt;spacy&lt;2.4.0,&gt;=2.3.0-&gt;en_core_web_md==2.3.1) (2.10)\nRequirement already satisfied: urllib3!=1.25.0,!=1.25.1,&lt;1.26,&gt;=1.21.1 in /opt/anaconda3/envs/Lambda/lib/python3.8/site-packages (from requests&lt;3.0.0,&gt;=2.13.0-&gt;spacy&lt;2.4.0,&gt;=2.3.0-&gt;en_core_web_md==2.3.1) (1.25.10)\nBuilding wheels for collected packages: en-core-web-md\n  Building wheel for en-core-web-md (setup.py) ... \u001b[?25ldone\n\u001b[?25h  Created wheel for en-core-web-md: filename=en_core_web_md-2.3.1-py3-none-any.whl size=50916641 sha256=0a0f76a0fd049abeeeb5b86a63febba63dd3313fd161ffc4202543d85f3370c6\n  Stored in directory: /private/var/folders/8w/sv944bws7rl36s4_bjgyc9jw0000gn/T/pip-ephem-wheel-cache-w4xltqez/wheels/b8/ae/ae/c63bae74a3b3e18b2fa35e179387e6cdeb03a1c479ed45c351\nSuccessfully built en-core-web-md\nInstalling collected packages: en-core-web-md\nSuccessfully installed en-core-web-md-2.3.1\n\u001b[38;5;2m✔ Download and installation successful\u001b[0m\nYou can now load the model via spacy.load(&#39;en_core_web_md&#39;)\n"
    }
   ],
   "source": []
  },
  {
   "cell_type": "code",
   "execution_count": 12,
   "metadata": {},
   "outputs": [],
   "source": [
    "nlp = spacy.load('en_core_web_md', disable=['tagger', 'parser'])"
   ]
  },
  {
   "cell_type": "markdown",
   "metadata": {},
   "source": [
    "### Bringing it all together"
   ]
  },
  {
   "cell_type": "code",
   "execution_count": 13,
   "metadata": {
    "tags": []
   },
   "outputs": [
    {
     "output_type": "stream",
     "name": "stdout",
     "text": "dog True False\ncat True False\nbanana True False\nasdfsadkgjdf False True\n"
    }
   ],
   "source": [
    "tokens = nlp('dog cat banana asdfsadkgjdf')\n",
    "\n",
    "for token in tokens:\n",
    "    print(token.text, token.has_vector, token.is_oov)"
   ]
  },
  {
   "cell_type": "code",
   "execution_count": 15,
   "metadata": {},
   "outputs": [
    {
     "output_type": "execute_result",
     "data": {
      "text/plain": "array([-7.18728974e-02,  2.97771603e-01, -4.37522531e-02, -9.79740024e-02,\n        4.59395424e-02, -3.88047807e-02,  3.99180166e-02, -7.35119805e-02,\n        3.98872793e-03,  2.01765513e+00, -2.38754973e-01,  2.12704055e-02,\n        8.11695009e-02,  1.66987125e-02, -8.19785967e-02, -6.95483238e-02,\n       -2.74287034e-02,  1.25038862e+00, -1.28530279e-01,  2.90594762e-05,\n       -5.21141551e-02, -3.50238159e-02,  1.05087506e-02, -1.24235503e-01,\n       -1.24730393e-02,  5.62962256e-02, -3.33214998e-02,  1.79408919e-02,\n        1.17023543e-01,  6.33955300e-02, -1.05149280e-02,  7.00587034e-03,\n        1.02100158e-02,  5.21205254e-02,  2.21641902e-02, -1.03850383e-02,\n        1.10859096e-01,  2.63785105e-02, -5.55697009e-02, -5.03252819e-02,\n       -3.23525891e-02,  3.56648043e-02, -4.33265492e-02,  1.17488541e-02,\n        4.55410555e-02,  6.37782365e-02, -6.36666790e-02,  1.10338390e-01,\n        3.09718102e-02,  3.20692435e-02,  1.37490273e-01,  4.57462249e-03,\n        4.86723036e-02,  6.67551253e-03,  3.13929655e-02,  8.62749815e-02,\n       -1.11374194e-02,  4.47249562e-02,  3.31498007e-03, -5.74270217e-03,\n        3.07303108e-02, -6.02622181e-02, -9.15015563e-02,  8.47303420e-02,\n        1.76237032e-01, -1.08162880e-01, -6.28397539e-02,  1.95343986e-01,\n        2.96583306e-03,  6.99516386e-02,  7.69446567e-02, -2.71068327e-02,\n        1.30151793e-01,  6.67512119e-02,  8.31283182e-02,  7.23191053e-02,\n        8.30874518e-02, -1.77877083e-01,  2.41387505e-02,  2.55323023e-01,\n       -1.53282611e-02,  1.90716296e-01,  2.41570119e-02,  1.07789047e-01,\n        5.61978519e-02, -1.61412790e-01, -1.53349847e-01,  1.04793407e-01,\n        2.14813620e-01,  1.14962615e-01, -6.14468679e-02,  8.11702609e-02,\n       -1.16237670e-01,  1.19459480e-01,  1.95227806e-02,  2.66791042e-03,\n       -3.55360582e-02, -1.44009709e-01,  6.20629862e-02,  4.04581279e-02,\n       -2.25283094e-02, -8.08159262e-02, -1.19533934e-01, -9.89675671e-02,\n        7.48424307e-02, -6.80329561e-01,  2.42613450e-01,  1.62540749e-03,\n       -1.80570502e-02, -7.51554966e-02,  6.45366609e-02, -3.13452184e-01,\n        2.00348556e-01, -6.66597486e-02,  1.52041495e-01, -5.00390269e-02,\n       -3.07121314e-03,  4.37722020e-02,  3.27696651e-02, -5.41088283e-02,\n        1.73596695e-01,  1.43721867e-02, -9.05687548e-03, -1.56379566e-02,\n        4.68055271e-02, -6.89085126e-02, -4.90434235e-03, -1.11633651e-01,\n       -2.41696462e-03, -2.10552830e-02,  9.30801556e-02, -1.04950927e-01,\n       -1.45046681e-01, -1.29555225e-01, -7.80383721e-02,  8.19981247e-02,\n        6.13355916e-03,  2.80891228e-02,  1.30869802e-02,  6.10204339e-02,\n       -1.03224123e+00, -4.68957424e-02,  2.50118315e-01, -7.39565268e-02,\n       -2.09631845e-02, -6.02852479e-02, -8.11907202e-02,  1.21797718e-01,\n        3.12080011e-02,  7.12295398e-02, -1.36726767e-01,  1.04349375e-01,\n        6.45553023e-02, -1.13554366e-01, -1.39615666e-02,  1.18705444e-02,\n        2.42273137e-02,  1.17521901e-02,  2.01666355e-02, -6.10048175e-02,\n        1.59163754e-02,  9.54541788e-02, -8.37836862e-02, -2.25759655e-01,\n        4.18915302e-02, -1.23542577e-01,  7.70259276e-02, -4.50729169e-02,\n        1.67365581e-01,  1.29240956e-02, -4.52971756e-02,  2.45449990e-02,\n       -5.53619005e-02,  8.49030446e-04, -2.10723933e-02,  2.45078132e-02,\n       -8.35322961e-02,  3.22688594e-02, -5.54977451e-03,  1.04432948e-01,\n        6.50760457e-02, -3.10654584e-02, -3.47904377e-02, -4.35962901e-02,\n       -3.62151489e-02, -1.48531824e-01,  4.89001200e-02, -9.53290239e-02,\n        1.78144351e-02,  8.70078951e-02,  3.22275385e-02, -1.52026648e-02,\n        1.02377370e-01,  7.46993124e-02, -8.30820501e-02,  1.05568461e-01,\n        4.02315781e-02, -4.02995944e-02,  5.56065440e-02,  1.67116895e-01,\n       -1.31914765e-02, -1.30641773e-01, -1.40242307e-02,  1.17668621e-02,\n        2.34998360e-01,  3.97058241e-02, -7.86147565e-02,  1.32146552e-01,\n       -3.74980271e-02,  2.53164805e-02, -9.46906283e-02, -1.14393793e-01,\n        2.24837326e-02, -9.97002870e-02,  5.51822893e-02,  2.72453249e-01,\n        2.74442863e-02, -8.71340483e-02, -2.33997956e-01,  6.80648461e-02,\n       -6.54015467e-02, -1.23895872e-02, -7.38274083e-02,  7.22069219e-02,\n        4.70690541e-02, -2.09812857e-02, -1.37018226e-02,  1.13428362e-01,\n       -1.86559465e-02,  3.12478980e-03, -1.04861474e-02, -1.07135195e-02,\n       -8.91097710e-02,  4.10162210e-02, -4.67981882e-02, -1.58696678e-02,\n       -1.04384847e-01, -1.11733779e-01, -1.06406592e-01, -1.89326908e-02,\n        7.14297444e-02, -1.33480839e-02, -9.36789513e-02,  1.96486205e-01,\n        1.38266936e-01, -1.51436552e-02, -1.35019004e-01, -1.06947497e-01,\n       -9.82701182e-02,  9.57014933e-02, -2.58474387e-02, -2.38742083e-02,\n       -2.18522310e-01, -8.20079148e-02, -1.63871963e-02,  1.57001317e-01,\n        7.23562539e-02,  6.00356283e-03, -1.76588088e-01,  9.41399485e-03,\n        1.11727886e-01,  9.40055624e-02, -6.86573610e-02, -6.96496805e-03,\n       -7.32523501e-02, -1.24688171e-01,  4.78752479e-02,  1.35796696e-01,\n        3.15773875e-01,  8.97823051e-02, -2.11479440e-02,  3.21448855e-02,\n       -1.45821005e-01, -1.39348000e-01, -1.57641098e-01,  1.95562337e-02,\n        6.27864078e-02,  4.78537977e-02,  1.70315742e-01,  2.16949910e-01,\n        4.19298783e-02, -3.36873755e-02,  2.96377344e-03,  7.76188299e-02,\n       -6.18846640e-02, -4.78468165e-02,  1.46779880e-01, -1.75617099e-01,\n        1.73491500e-02,  2.29725279e-02, -2.30408028e-01, -8.96867216e-02,\n        3.24762389e-02, -1.26273083e-02,  4.69240136e-02, -1.17328279e-01,\n        2.95945331e-02, -4.93582748e-02, -1.08633772e-01,  1.63322538e-01],\n      dtype=float32)"
     },
     "metadata": {},
     "execution_count": 15
    }
   ],
   "source": [
    "tweet_embedding = nlp(elon_tweets[1].full_text)\n",
    "tweet_embedding.vector"
   ]
  },
  {
   "cell_type": "code",
   "execution_count": 16,
   "metadata": {},
   "outputs": [],
   "source": [
    "def vectorize_tweet(nlp, tweet_text):\n",
    "    return nlp(tweet_text).vector"
   ]
  },
  {
   "cell_type": "code",
   "execution_count": 17,
   "metadata": {},
   "outputs": [],
   "source": [
    "def add_or_update_user(username, nlp):\n",
    "    try: \n",
    "        twitter_user = TWITTER.get_user(username)\n",
    "\n",
    "        tweets = twitter_user.timeline(count=200,\n",
    "                                        exclude_replies=True,\n",
    "                                        include_rts=False,\n",
    "                                        tweet_mode='extended')\n",
    "        \n",
    "        embdeddings = vectorize_tweet(nlp, tweets[0].full_text)\n",
    "    \n",
    "    except Exception as e:\n",
    "        print('Error Processing {}: {}'.format(username, e))\n",
    "\n",
    "    return tweets, embeddings"
   ]
  },
  {
   "cell_type": "code",
   "execution_count": null,
   "metadata": {},
   "outputs": [],
   "source": []
  }
 ],
 "metadata": {
  "colab": {
   "collapsed_sections": [],
   "name": "DSPT6_APIs_Demo.ipynb",
   "provenance": []
  },
  "kernelspec": {
   "display_name": "Python 3.8.5 64-bit ('pt-twitoff': pipenv)",
   "language": "python",
   "name": "python_defaultSpec_1601616072655"
  },
  "language_info": {
   "codemirror_mode": {
    "name": "ipython",
    "version": 3
   },
   "file_extension": ".py",
   "mimetype": "text/x-python",
   "name": "python",
   "nbconvert_exporter": "python",
   "pygments_lexer": "ipython3",
   "version": "3.8.5-final"
  }
 },
 "nbformat": 4,
 "nbformat_minor": 4
}