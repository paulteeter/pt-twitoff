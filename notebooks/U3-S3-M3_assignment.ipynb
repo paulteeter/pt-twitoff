{
 "cells": [
  {
   "cell_type": "code",
   "execution_count": 59,
   "metadata": {},
   "outputs": [],
   "source": [
    "import sqlite3\n",
    "import pickle\n",
    "import pandas as pd\n",
    "import numpy as np\n",
    "from sklearn.model_selection import train_test_split\n",
    "from sklearn.linear_model import LogisticRegression\n",
    "from sklearn.metrics import classification_report, plot_confusion_matrix\n",
    "import matplotlib.pyplot as plt\n",
    "import spacy"
   ]
  },
  {
   "cell_type": "code",
   "execution_count": 46,
   "metadata": {},
   "outputs": [],
   "source": [
    "# Create connection to SQLite Database:\n",
    "conn = sqlite3.connect('../twitoff/twitoff.db')"
   ]
  },
  {
   "cell_type": "code",
   "execution_count": null,
   "metadata": {},
   "outputs": [],
   "source": []
  },
  {
   "cell_type": "code",
   "execution_count": 47,
   "metadata": {},
   "outputs": [],
   "source": [
    "def get_data(query, conn):\n",
    "    '''Function to get data from SQLite DB'''\n",
    "    \n",
    "    cursor = conn.cursor()\n",
    "    result = cursor.execute(query).fetchall()\n",
    "    \n",
    "    #   Get columns from cursor object\n",
    "    columns = list(map(lambda x: x[0], cursor.description))\n",
    "    \n",
    "    #   Assign to a DataFrame\n",
    "    df = pd.DataFrame(data=result, columns=columns)\n",
    "    return df"
   ]
  },
  {
   "cell_type": "code",
   "execution_count": 48,
   "metadata": {},
   "outputs": [
    {
     "name": "stdout",
     "output_type": "stream",
     "text": [
      "(768, 5)\n"
     ]
    },
    {
     "data": {
      "text/plain": [
       "<bound method NDFrame.head of                       id                                              tweet  \\\n",
       "0     941805289359081474  Over the last fifteen years, automatic paper t...   \n",
       "1     942546534478032896  My favorite Christmas song is whatever plays i...   \n",
       "2     942979592486309889  (SPOILER ALERT) In 100 years, nobody will reme...   \n",
       "3     943144310651916288  Not true, Little Drummer Boy. You could have g...   \n",
       "4     943559086511214592  On Christmas morning, Donald Trump waking up a...   \n",
       "..                   ...                                                ...   \n",
       "763  1313653514783141889  So I had to constantly fight off all of this S...   \n",
       "764  1313654133153583104  Wear your mask in the “beauty” parlor, Nancy! ...   \n",
       "765  1313658825040371712  The House &amp; Senate should IMMEDIATELY Appr...   \n",
       "766  1313661368856457217  11,00 North Carolina residents get incorrect v...   \n",
       "767  1313664886648582144  If I am sent a Stand Alone Bill for Stimulus C...   \n",
       "\n",
       "                                             embedding         username  \\\n",
       "0    b'\\x80\\x05\\x95$\\x05\\x00\\x00\\x00\\x00\\x00\\x00\\x8...        badbanana   \n",
       "1    b\"\\x80\\x05\\x95$\\x05\\x00\\x00\\x00\\x00\\x00\\x00\\x8...        badbanana   \n",
       "2    b'\\x80\\x05\\x95$\\x05\\x00\\x00\\x00\\x00\\x00\\x00\\x8...        badbanana   \n",
       "3    b'\\x80\\x05\\x95$\\x05\\x00\\x00\\x00\\x00\\x00\\x00\\x8...        badbanana   \n",
       "4    b'\\x80\\x05\\x95$\\x05\\x00\\x00\\x00\\x00\\x00\\x00\\x8...        badbanana   \n",
       "..                                                 ...              ...   \n",
       "763  b'\\x80\\x05\\x95$\\x05\\x00\\x00\\x00\\x00\\x00\\x00\\x8...  realDonaldTrump   \n",
       "764  b'\\x80\\x05\\x95$\\x05\\x00\\x00\\x00\\x00\\x00\\x00\\x8...  realDonaldTrump   \n",
       "765  b'\\x80\\x05\\x95$\\x05\\x00\\x00\\x00\\x00\\x00\\x00\\x8...  realDonaldTrump   \n",
       "766  b'\\x80\\x05\\x95$\\x05\\x00\\x00\\x00\\x00\\x00\\x00\\x8...  realDonaldTrump   \n",
       "767  b'\\x80\\x05\\x95$\\x05\\x00\\x00\\x00\\x00\\x00\\x00\\x8...  realDonaldTrump   \n",
       "\n",
       "                                     embedding_decoded  \n",
       "0    [-0.06758354, 0.16330384, -0.019723587, -0.202...  \n",
       "1    [0.029909583, 0.16239657, -0.13273256, -0.0321...  \n",
       "2    [-0.103914514, 0.21357042, -0.12566972, -0.091...  \n",
       "3    [-0.065528065, 0.27995238, -0.29994658, -0.092...  \n",
       "4    [-0.056322705, 0.12622026, -0.19224559, -0.130...  \n",
       "..                                                 ...  \n",
       "763  [-0.14109963, 0.1053675, -0.09919055, -0.07977...  \n",
       "764  [0.06923732, 0.10308361, -0.023043616, 0.05991...  \n",
       "765  [-0.07845708, 0.12876987, 0.015674874, -0.1047...  \n",
       "766  [-0.07733052, 0.08194973, -0.0040925723, -0.10...  \n",
       "767  [-0.01829918, 0.19813009, -0.17050926, -0.0369...  \n",
       "\n",
       "[768 rows x 5 columns]>"
      ]
     },
     "metadata": {},
     "output_type": "display_data"
    }
   ],
   "source": [
    "sql = '''\n",
    "SELECT\n",
    "        tweet.id,\n",
    "        tweet.tweet,\n",
    "        tweet.embedding,\n",
    "        user.username\n",
    "FROM tweet\n",
    "JOIN user ON tweet.user_id = user.id;\n",
    "'''\n",
    "\n",
    "df = get_data(sql, conn)\n",
    "df['embedding_decoded'] = df.embedding.apply(lambda x: pickle.loads(x))\n",
    "print(df.shape)\n",
    "display(df.head)"
   ]
  },
  {
   "cell_type": "code",
   "execution_count": 49,
   "metadata": {},
   "outputs": [
    {
     "data": {
      "text/plain": [
       "badbanana          186\n",
       "mental_floss       181\n",
       "SteveMartinToGo    162\n",
       "johnbcrist         101\n",
       "pourmecoffee        97\n",
       "elonmusk            20\n",
       "realDonaldTrump     12\n",
       "dustinstri92         9\n",
       "Name: username, dtype: int64"
      ]
     },
     "execution_count": 49,
     "metadata": {},
     "output_type": "execute_result"
    }
   ],
   "source": [
    "df.username.value_counts()"
   ]
  },
  {
   "cell_type": "code",
   "execution_count": 54,
   "metadata": {},
   "outputs": [
    {
     "name": "stdout",
     "output_type": "stream",
     "text": [
      "(367, 300) (367,)\n"
     ]
    }
   ],
   "source": [
    "user1_emb = df.embedding_decoded[df.username == 'badbanana']\n",
    "user2_emb = df.embedding_decoded[df.username == 'mental_floss']\n",
    "\n",
    "embeddings = pd.concat([user1_emb, user2_emb])\n",
    "\n",
    "embeddings_df = pd.DataFrame(embeddings.to_list(),\n",
    "                            columns=[f'dom{i}' for i in range(300)])\n",
    "labels = np.concatenate([np.ones(len(user1_emb)),\n",
    "                        np.zeros(len(user2_emb))])\n",
    "\n",
    "print(embeddings_df.shape, labels.shape)"
   ]
  },
  {
   "cell_type": "code",
   "execution_count": 55,
   "metadata": {},
   "outputs": [
    {
     "name": "stdout",
     "output_type": "stream",
     "text": [
      "(293, 300) (74, 300)\n"
     ]
    }
   ],
   "source": [
    "X_train, X_test, y_train, y_test = train_test_split(\n",
    "    embeddings_df, labels, test_size=0.2, random_state=42)\n",
    "\n",
    "print(X_train.shape, X_test.shape)"
   ]
  },
  {
   "cell_type": "code",
   "execution_count": 56,
   "metadata": {},
   "outputs": [
    {
     "name": "stdout",
     "output_type": "stream",
     "text": [
      "33.4 ms ± 4.19 ms per loop (mean ± std. dev. of 7 runs, 10 loops each)\n"
     ]
    }
   ],
   "source": [
    "log_reg = LogisticRegression(max_iter=1000)\n",
    "%timeit log_reg.fit(X_train, y_train)"
   ]
  },
  {
   "cell_type": "code",
   "execution_count": 57,
   "metadata": {},
   "outputs": [
    {
     "name": "stdout",
     "output_type": "stream",
     "text": [
      "              precision    recall  f1-score   support\n",
      "\n",
      "         0.0       0.82      0.78      0.80        36\n",
      "         1.0       0.80      0.84      0.82        38\n",
      "\n",
      "    accuracy                           0.81        74\n",
      "   macro avg       0.81      0.81      0.81        74\n",
      "weighted avg       0.81      0.81      0.81        74\n",
      "\n"
     ]
    }
   ],
   "source": [
    "y_pred = log_reg.predict(X_test)\n",
    "print(classification_report(y_test, y_pred))"
   ]
  },
  {
   "cell_type": "code",
   "execution_count": 58,
   "metadata": {},
   "outputs": [
    {
     "data": {
      "image/png": "[encoded data removed]",
      "text/plain": [
       "<Figure size 720x720 with 2 Axes>"
      ]
     },
     "metadata": {
      "needs_background": "light"
     },
     "output_type": "display_data"
    }
   ],
   "source": [
    "%matplotlib inline\n",
    "\n",
    "fig, ax = plt.subplots(figsize=(10,10))\n",
    "plot_confusion_matrix(log_reg, X_test, y_test,\n",
    "                     normalize='true', cmap='Blues',\n",
    "                     display_labels=['BadBanana', 'Mental_Floss'], ax=ax)\n",
    "plt.title(f'LogReg Confusion Matrix (N={X_test.shape[0]})');"
   ]
  },
  {
   "cell_type": "code",
   "execution_count": 60,
   "metadata": {},
   "outputs": [],
   "source": [
    "nlp = spacy.load('en_core_web_md', disable=['tagger', 'parser'])\n",
    "\n",
    "def vectorize_tweet(nlp, tweet_text):\n",
    "    '''Returns spacy embeddings for passed in text'''\n",
    "    return list(nlp(tweet_text).vector)"
   ]
  },
  {
   "cell_type": "code",
   "execution_count": 63,
   "metadata": {},
   "outputs": [
    {
     "data": {
      "text/plain": [
       "[0.005814955, 0.12815481, -0.12538919, 0.012888247, 0.09633119]"
      ]
     },
     "execution_count": 63,
     "metadata": {},
     "output_type": "execute_result"
    }
   ],
   "source": [
    "new_emb = vectorize_tweet(nlp, '''For the final segment tonight, \n",
    "                                you'll each have two minutes to throw \n",
    "                                feces at each other.''')\n",
    "new_emb[0:5]"
   ]
  },
  {
   "cell_type": "code",
   "execution_count": 64,
   "metadata": {},
   "outputs": [
    {
     "data": {
      "text/plain": [
       "array([1.])"
      ]
     },
     "execution_count": 64,
     "metadata": {},
     "output_type": "execute_result"
    }
   ],
   "source": [
    "log_reg.predict([new_emb])"
   ]
  },
  {
   "cell_type": "code",
   "execution_count": 69,
   "metadata": {},
   "outputs": [],
   "source": [
    "pickle.dump(log_reg, open(\"../models/log_reg.pkl\", \"wb\"))"
   ]
  },
  {
   "cell_type": "code",
   "execution_count": 71,
   "metadata": {},
   "outputs": [
    {
     "data": {
      "text/plain": [
       "array([1.])"
      ]
     },
     "execution_count": 71,
     "metadata": {},
     "output_type": "execute_result"
    }
   ],
   "source": [
    "unpickled_lr = pickle.load(open('../models/log_reg.pkl', 'rb'))\n",
    "unpickled_lr.predict([new_emb])"
   ]
  },
  {
   "cell_type": "code",
   "execution_count": null,
   "metadata": {},
   "outputs": [],
   "source": []
  }
 ],
 "metadata": {
  "kernelspec": {
   "display_name": "Python 3",
   "language": "python",
   "name": "python3"
  },
  "language_info": {
   "codemirror_mode": {
    "name": "ipython",
    "version": 3
   },
   "file_extension": ".py",
   "mimetype": "text/x-python",
   "name": "python",
   "nbconvert_exporter": "python",
   "pygments_lexer": "ipython3",
   "version": "3.8.5"
  }
 },
 "nbformat": 4,
 "nbformat_minor": 4
}
